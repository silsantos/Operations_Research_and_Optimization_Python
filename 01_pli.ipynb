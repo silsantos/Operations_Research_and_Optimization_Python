{
 "cells": [
  {
   "cell_type": "markdown",
   "id": "556bbd76-c666-4b75-89e6-1bbfcba7cff8",
   "metadata": {},
   "source": [
    "## Programação Linear Inteira\n",
    "***\n",
    "\n",
    "##### Problemas de programação linear inteira (PLI) são problemas de programação linear (PL) em que todas ou algumas de suas variáveis assumem valores discretos, isto é, valores pertencentes ao conjunto dos números inteiros.\n",
    "\n",
    "##### Quanto todas as variáveis são números inteiros, teremos um problema de progrmação linear inteira pura (PLIP). Caso contrário, programação linear inteira mista (PLIM).\n",
    "\n",
    "##### Um caso especial de variável inteira é a variável binária, que assume somente valores iguais a zero ou um. Quando todas as variáveis de um modelo são binárias, diz-se que o modelo é de programação inteira binária.\n",
    "\n",
    "##### Em geral, os problemas apresentados estão sujeitos à restrições. Essas restrições impõem condições às variáveis do problema.\n",
    "\n",
    "[Ler mais.](https://repositorio-aberto.up.pt/bitstream/10216/74369/2/40539.pdf)"
   ]
  },
  {
   "cell_type": "markdown",
   "id": "a6c47792-00d1-45c4-81f7-4de4b5317c02",
   "metadata": {},
   "source": [
    "### Problema da Mochila (Knapsack Problem)\n",
    "***"
   ]
  },
  {
   "cell_type": "markdown",
   "id": "f3f24354-e61d-46ba-8cb8-2a3b1f882beb",
   "metadata": {},
   "source": [
    "##### Um alpinista dispõe de uma mochila e de diversos objetos que podem ser carregados na mochila; para cada objeto é conhecido o seu peso (wi) e o benefício que dele se tira (pi). Conhecida a capacidade da mochila em termos de peso máximo (c), quais os objetos, dos n existentes, que devem ser escolhidos para colocar na mochila?\n",
    "\n",
    "##### Observação 1: Queremos maximizar a quantidade de itens dentro da mochila. No entanto, levaremos em consideração não apenas a quantidade de itens, mas também o benefício que teremos ao levá-los, ou seja, o quanto o item escolhido é importante para a viagem. Este é nosso objetivo.\n",
    "\n",
    "##### Observação 2: É necessário respeitar a capacidade da mochila. Assim sendo, queremos a maior quantidade de itens importantes e que, com seus respectivos pesos somados, não ultrapasse o valor c. Esta é uma restrição.\n",
    "\n",
    "##### Em termos matemáticos:"
   ]
  },
  {
   "cell_type": "markdown",
   "id": "7150543c-a8a5-467e-9b77-3efa73ec46b3",
   "metadata": {},
   "source": [
    "<center><img src = 'assets/mochila.png'></center>"
   ]
  },
  {
   "cell_type": "markdown",
   "id": "10c360f1-6080-4565-bc2f-47bd84b755fc",
   "metadata": {},
   "source": [
    "##### A variável x é uma variável binária que assume seu valor da seguinte forma:\n",
    "\n",
    "> Caso o objeto seja escolhido, seu valor será igual a 1.\n",
    "\n",
    "> Caso o objeto não seja escolhido, seu valor será igual a 0."
   ]
  },
  {
   "cell_type": "markdown",
   "id": "e64b65a0-f1a8-4024-a593-d8a255419a65",
   "metadata": {},
   "source": [
    "***\n",
    "### Resolução:\n",
    "\n",
    "##### Para resolvermos o problema, usaremos uma biblioteca chamada [MIP](https://docs.python-mip.com/en/latest/examples.html)."
   ]
  },
  {
   "cell_type": "code",
   "execution_count": 26,
   "id": "ebebb44b-6de6-4c1e-a931-b0c1cffc0706",
   "metadata": {},
   "outputs": [],
   "source": [
    "from mip import *\n",
    "import pandas as pd"
   ]
  },
  {
   "cell_type": "markdown",
   "id": "8c7eda43-9833-4c1d-b5ea-1f969fe17805",
   "metadata": {},
   "source": [
    "##### Criação de dados sintéticos:"
   ]
  },
  {
   "cell_type": "code",
   "execution_count": 9,
   "id": "da4c5eef-e5e6-433c-b43d-1386067d3fb0",
   "metadata": {},
   "outputs": [],
   "source": [
    "# Benefícios dos itens (p: profit)\n",
    "p = [10, 13, 18, 31, 7, 15]\n",
    "\n",
    "# Pesos dos objetos (w: weight)\n",
    "w = [11, 15, 20, 35, 10, 33]\n",
    "\n",
    "# Capacidade da mochila\n",
    "c = 47\n",
    "\n",
    "# Quantidade de itens\n",
    "I = range(len(w))"
   ]
  },
  {
   "cell_type": "markdown",
   "id": "ec83a698-6dd7-4a2d-9263-250e74c491ef",
   "metadata": {},
   "source": [
    "##### Definição do modelo e das restrições:"
   ]
  },
  {
   "cell_type": "code",
   "execution_count": 10,
   "id": "b47da870-c6c3-4ba8-98af-53f41f23730a",
   "metadata": {},
   "outputs": [
    {
     "name": "stdout",
     "output_type": "stream",
     "text": [
      "Cgl0004I processed model has 1 rows, 6 columns (6 integer (6 of which binary)) and 6 elements\n",
      "Coin3009W Conflict graph built in 0.002 seconds, density: 14.103%\n",
      "Cgl0015I Clique Strengthening extended 0 cliques, 0 were dominated\n",
      "Cbc0045I Nauty did not find any useful orbits in time 0\n",
      "Cbc0038I Initial state - 1 integers unsatisfied sum - 0.457143\n",
      "Cbc0038I Solution found of -28\n",
      "Cbc0038I Before mini branch and bound, 5 integers at bound fixed and 0 continuous\n",
      "Cbc0038I Full problem 1 rows 6 columns, reduced to 0 rows 0 columns\n",
      "Cbc0038I Mini branch and bound did not improve solution (0.02 seconds)\n",
      "Cbc0038I Round again with cutoff of -30.3171\n",
      "Cbc0038I Reduced cost fixing fixed 1 variables on major pass 2\n",
      "Cbc0038I Pass   1: suminf.    0.07474 (1) obj. -30.3171 iterations 1\n",
      "Cbc0038I Pass   2: suminf.    0.45714 (1) obj. -42.1714 iterations 1\n",
      "Cbc0038I Pass   3: suminf.    0.07474 (1) obj. -30.3171 iterations 1\n",
      "Cbc0038I Pass   4: suminf.    0.45714 (1) obj. -42.1714 iterations 1\n",
      "Cbc0038I Pass   5: suminf.    0.34461 (1) obj. -30.3171 iterations 2\n",
      "Cbc0038I Solution found of -41\n",
      "Cbc0038I Before mini branch and bound, 4 integers at bound fixed and 0 continuous\n",
      "Cbc0038I Full problem 1 rows 6 columns, reduced to 1 rows 2 columns\n",
      "Cbc0038I Mini branch and bound did not improve solution (0.02 seconds)\n",
      "Cbc0038I Round again with cutoff of -42.0342\n",
      "Cbc0038I Reduced cost fixing fixed 5 variables on major pass 3\n",
      "Cbc0038I After 0.02 seconds - Feasibility pump exiting with objective of -41 - took 0.00 seconds\n",
      "Cbc0012I Integer solution of -41 found by feasibility pump after 0 iterations and 0 nodes (0.02 seconds)\n",
      "Cbc0038I Full problem 1 rows 6 columns, reduced to 0 rows 0 columns\n",
      "Cbc0001I Search completed - best objective -41, took 0 iterations and 0 nodes (0.02 seconds)\n",
      "Cbc0035I Maximum depth 0, 5 variables fixed on reduced cost\n",
      "Total time (CPU seconds):       0.00   (Wallclock seconds):       0.03\n",
      "\n",
      "Starting solution of the Linear programming relaxation problem using Primal Simplex\n",
      "\n",
      "Coin0506I Presolve 1 (0) rows, 6 (0) columns and 6 (0) elements\n",
      "Clp1000I sum of infeasibilities 0 - average 0, 6 fixed columns\n",
      "Coin0506I Presolve 0 (-1) rows, 0 (-6) columns and 0 (-6) elements\n",
      "Clp0000I Optimal - objective value -0\n",
      "Clp0000I Optimal - objective value -0\n",
      "Coin0511I After Postsolve, objective 0, infeasibilities - dual 0 (0), primal 0 (0)\n",
      "Clp0006I 0  Obj -0 Dual inf 165.0606 (6)\n",
      "Clp0000I Optimal - objective value 42.171429\n",
      "Clp0000I Optimal - objective value 42.171429\n",
      "Clp0000I Optimal - objective value 42.171429\n",
      "Clp0032I Optimal objective 42.17142857 - 0 iterations time 0.002, Idiot 0.00\n",
      "\n",
      "Starting MIP optimization\n"
     ]
    },
    {
     "data": {
      "text/plain": [
       "<OptimizationStatus.OPTIMAL: 0>"
      ]
     },
     "execution_count": 10,
     "metadata": {},
     "output_type": "execute_result"
    }
   ],
   "source": [
    "# Definição do modelo\n",
    "m = Model('knapsack', solver_name=CBC)\n",
    "\n",
    "# Definição da variável binária x:\n",
    "x = [m.add_var(var_type=BINARY) for i in I]\n",
    "\n",
    "# Objetivo: Maximizar a quantidade de itens x seu benefício:\n",
    "m.objective = maximize(xsum(p[i] * x[i] for i in I))\n",
    "\n",
    "# Restrição: Atender à capacidade da mochila\n",
    "m += xsum(w[i] * x[i] for i in I) <= c\n",
    "\n",
    "# Otimizando o modelo:\n",
    "m.optimize()"
   ]
  },
  {
   "cell_type": "markdown",
   "id": "19e58d54-88d3-448f-9e2b-b57119cd4677",
   "metadata": {},
   "source": [
    "##### Visualização dos itens selecionados:"
   ]
  },
  {
   "cell_type": "code",
   "execution_count": 11,
   "id": "f5ec51e1-b9bb-4640-9afd-4bedcd4424a5",
   "metadata": {},
   "outputs": [
    {
     "name": "stdout",
     "output_type": "stream",
     "text": [
      "selected items: [0, 3]\n"
     ]
    }
   ],
   "source": [
    "# Os itens que possuírem x = 0 (não selecionados) não serão mostrados\n",
    "selected = [i for i in I if x[i].x >= 0.99]\n",
    "print(\"selected items: {}\".format(selected))"
   ]
  },
  {
   "cell_type": "markdown",
   "id": "952c4313-ba08-4c93-b04d-c9af0e718953",
   "metadata": {},
   "source": [
    "##### Assim sendo, os itens selecionados foram: item 0 e item 3."
   ]
  },
  {
   "cell_type": "code",
   "execution_count": 12,
   "id": "0e92c517-05f3-4b32-b21a-0478f5478e52",
   "metadata": {},
   "outputs": [
    {
     "data": {
      "text/plain": [
       "41.0"
      ]
     },
     "execution_count": 12,
     "metadata": {},
     "output_type": "execute_result"
    }
   ],
   "source": [
    "m.objective_value"
   ]
  },
  {
   "cell_type": "markdown",
   "id": "2f4f33ab-bd4e-4a3a-844e-14065525db06",
   "metadata": {},
   "source": [
    "##### O valor ótimo de benefício (máximo benefício possível, de acordo com as restrições de capacidade da mochila) soma 41 pontos."
   ]
  },
  {
   "cell_type": "code",
   "execution_count": 13,
   "id": "c24aaaf0-e657-41da-99f6-cca0d4b5373a",
   "metadata": {},
   "outputs": [
    {
     "name": "stdout",
     "output_type": "stream",
     "text": [
      "1.0\n"
     ]
    }
   ],
   "source": [
    "print(m.vars[3].x)"
   ]
  },
  {
   "cell_type": "markdown",
   "id": "548e7c55-b4ae-4028-aed2-650a837257bf",
   "metadata": {},
   "source": [
    "***\n",
    "### Problema das ações\n",
    "***\n",
    "\n",
    "##### Um investidor da bolsa planeja investir em ações nos próximos 3 anos. As 5 ações disponíveis se encontram na tabela abaixo, bem como suas respectivas previsões de retorno. O investimento necessário a cada ação ao longo dos 3 anos e o limite de gasto do do investidor também estão na tabela."
   ]
  },
  {
   "cell_type": "markdown",
   "id": "cd714ab6-1996-4ee2-a051-c885866ce07b",
   "metadata": {},
   "source": [
    "<center><img src = 'assets/1_acoes.png'></center>"
   ]
  },
  {
   "cell_type": "markdown",
   "id": "4be14717-a04c-40a7-920a-7a7d0d17ca3a",
   "metadata": {},
   "source": [
    "##### Identificando as variáveis"
   ]
  },
  {
   "cell_type": "markdown",
   "id": "0233e720-fb0e-4da5-a237-fe4143b4dbb5",
   "metadata": {},
   "source": [
    "* Número de ações: I\n",
    "* Aporte necessário para cada ação em cada ano: a[t][i]\n",
    "* Limite de gastos do investidor para cada ano: limite[t]\n",
    "* Retorno de cada ação: r[i]\n",
    "\n",
    "##### Variável de decisão:\n",
    "\n",
    "* x[t][i]: Variável binária."
   ]
  },
  {
   "cell_type": "markdown",
   "id": "c6dcdbe4-7e46-480e-94a5-868541016aeb",
   "metadata": {},
   "source": [
    "##### Objetivo:\n",
    "\n",
    "> Maximizar o retorno ANUAL dos investimentos\n",
    "\n",
    "##### Restrição:\n",
    "\n",
    "> A soma dos investimentos anuais tem que ser menor ou igual ao orçamento do investidor para aquele ano."
   ]
  },
  {
   "cell_type": "markdown",
   "id": "d80bc8aa-1e60-4166-bdd8-63a10f6e0feb",
   "metadata": {},
   "source": [
    "<center><img src = 'assets/2_acoes.png'></center>"
   ]
  },
  {
   "cell_type": "markdown",
   "id": "0b627a93-3bcf-44be-a93d-95c30c88ceb3",
   "metadata": {},
   "source": [
    "##### Variáveis"
   ]
  },
  {
   "cell_type": "code",
   "execution_count": 14,
   "id": "3b7a5d43-7d6d-4ed1-86f8-93851de26ae2",
   "metadata": {},
   "outputs": [],
   "source": [
    "# Retornos ANUAIS dos projetos:\n",
    "\n",
    "r = [90, 120, 100, 80, 130]\n",
    "\n",
    "# Limite de investimento a cada ano\n",
    "limite = [45, 60, 50]\n",
    "\n",
    "# Aportes necessários em cada ano, para cada ação:\n",
    "a = [\n",
    "     [10, 15, 12, 9, 13],\n",
    "     [20, 15, 25, 15, 10],\n",
    "     [15, 20, 20, 15, 10]\n",
    "    ]\n",
    "\n",
    "# Quantidade de anos:\n",
    "T = range(len(limite))\n",
    "\n",
    "# Número de ações:\n",
    "I = range(len(r))"
   ]
  },
  {
   "cell_type": "markdown",
   "id": "cecbe76c-4997-44eb-b103-abcbdcfba829",
   "metadata": {},
   "source": [
    "##### Instanciando o modelo"
   ]
  },
  {
   "cell_type": "code",
   "execution_count": 15,
   "id": "87b65770-451b-4091-b236-96cafc5f86ed",
   "metadata": {},
   "outputs": [],
   "source": [
    "m = Model(sense=MAXIMIZE, solver_name=CBC)"
   ]
  },
  {
   "cell_type": "markdown",
   "id": "4341026c-dec7-4e8c-889c-aaf16e3a3cd3",
   "metadata": {},
   "source": [
    "##### Variável binária"
   ]
  },
  {
   "cell_type": "code",
   "execution_count": 17,
   "id": "95676acb-9af0-4d9f-a8c0-c0d9fdb96070",
   "metadata": {},
   "outputs": [],
   "source": [
    "x = [[m.add_var(var_type=BINARY) for i in I] for t in T]"
   ]
  },
  {
   "cell_type": "code",
   "execution_count": 19,
   "id": "7bc5cb96-9c38-4071-85b2-eaed178e0809",
   "metadata": {},
   "outputs": [
    {
     "data": {
      "text/plain": [
       "[[<mip.entities.Var at 0x7fd134719c40>,\n",
       "  <mip.entities.Var at 0x7fd134719340>,\n",
       "  <mip.entities.Var at 0x7fd134719400>,\n",
       "  <mip.entities.Var at 0x7fd15c3f40a0>,\n",
       "  <mip.entities.Var at 0x7fd15c2d3340>],\n",
       " [<mip.entities.Var at 0x7fd15c3b2520>,\n",
       "  <mip.entities.Var at 0x7fd144050b50>,\n",
       "  <mip.entities.Var at 0x7fd144050e50>,\n",
       "  <mip.entities.Var at 0x7fd144050e80>,\n",
       "  <mip.entities.Var at 0x7fd144050b20>],\n",
       " [<mip.entities.Var at 0x7fd1440508e0>,\n",
       "  <mip.entities.Var at 0x7fd144050670>,\n",
       "  <mip.entities.Var at 0x7fd144050a90>,\n",
       "  <mip.entities.Var at 0x7fd144607d90>,\n",
       "  <mip.entities.Var at 0x7fd144607e50>]]"
      ]
     },
     "execution_count": 19,
     "metadata": {},
     "output_type": "execute_result"
    }
   ],
   "source": [
    "# Note que temos uma variável x para cada ação (são 5), para cada ano (são 3)\n",
    "\n",
    "x"
   ]
  },
  {
   "cell_type": "markdown",
   "id": "e899e77e-bd25-468c-9a73-ff4ceeddf751",
   "metadata": {},
   "source": [
    "##### Objetivo: Maximizar o retorno ANUAL dos investimentos"
   ]
  },
  {
   "cell_type": "code",
   "execution_count": 20,
   "id": "5c1ae5e0-4acf-4dee-8fcf-64287aafba3f",
   "metadata": {},
   "outputs": [],
   "source": [
    "m.objective = maximize(xsum(r[i]*x[t][i] for i in I for t in T))"
   ]
  },
  {
   "cell_type": "markdown",
   "id": "6025a734-7675-40e8-a29e-e9a5dd2f6d2d",
   "metadata": {},
   "source": [
    "##### Restrições: A cada ano, o total dos investimentos precisa obedecer ao orçamento do investidor"
   ]
  },
  {
   "cell_type": "code",
   "execution_count": 21,
   "id": "43c2d28f-1175-4e70-a34b-5ed7e90f0c60",
   "metadata": {},
   "outputs": [],
   "source": [
    "for t in range(3):\n",
    "    m += xsum(a[t][i] * x[t][i] for i in I) <= limite[t]"
   ]
  },
  {
   "cell_type": "code",
   "execution_count": 22,
   "id": "308f8914-939d-4b37-a7a9-c7a551fbea10",
   "metadata": {},
   "outputs": [
    {
     "name": "stdout",
     "output_type": "stream",
     "text": [
      "Cgl0004I processed model has 1 rows, 6 columns (6 integer (6 of which binary)) and 6 elements\n",
      "Coin3009W Conflict graph built in 0.000 seconds, density: 14.103%\n",
      "Cgl0015I Clique Strengthening extended 0 cliques, 0 were dominated\n",
      "Cbc0045I Nauty did not find any useful orbits in time 2.8e-05\n",
      "Cbc0038I Initial state - 1 integers unsatisfied sum - 0.457143\n",
      "Cbc0038I Solution found of -28\n",
      "Cbc0038I Before mini branch and bound, 5 integers at bound fixed and 0 continuous\n",
      "Cbc0038I Full problem 1 rows 6 columns, reduced to 0 rows 0 columns\n",
      "Cbc0038I Mini branch and bound did not improve solution (0.00 seconds)\n",
      "Cbc0038I Round again with cutoff of -30.3171\n",
      "Cbc0038I Reduced cost fixing fixed 1 variables on major pass 2\n",
      "Cbc0038I Pass   1: suminf.    0.07474 (1) obj. -30.3171 iterations 1\n",
      "Cbc0038I Pass   2: suminf.    0.45714 (1) obj. -42.1714 iterations 1\n",
      "Cbc0038I Pass   3: suminf.    0.07474 (1) obj. -30.3171 iterations 1\n",
      "Cbc0038I Pass   4: suminf.    0.45714 (1) obj. -42.1714 iterations 1\n",
      "Cbc0038I Pass   5: suminf.    0.34461 (1) obj. -30.3171 iterations 2\n",
      "Cbc0038I Solution found of -41\n",
      "Cbc0038I Before mini branch and bound, 4 integers at bound fixed and 0 continuous\n",
      "Cbc0038I Full problem 1 rows 6 columns, reduced to 1 rows 2 columns\n",
      "Cbc0038I Mini branch and bound did not improve solution (0.00 seconds)\n",
      "Cbc0038I Round again with cutoff of -42.0342\n",
      "Cbc0038I Reduced cost fixing fixed 5 variables on major pass 3\n",
      "Cbc0038I After 0.00 seconds - Feasibility pump exiting with objective of -41 - took 0.00 seconds\n",
      "Cbc0012I Integer solution of -41 found by feasibility pump after 0 iterations and 0 nodes (0.00 seconds)\n",
      "Cbc0038I Full problem 1 rows 6 columns, reduced to 0 rows 0 columns\n",
      "Cbc0001I Search completed - best objective -41, took 0 iterations and 0 nodes (0.00 seconds)\n",
      "Cbc0035I Maximum depth 0, 5 variables fixed on reduced cost\n",
      "Total time (CPU seconds):       0.00   (Wallclock seconds):       0.00\n",
      "\n",
      "Starting solution of the Linear programming relaxation problem using Primal Simplex\n",
      "\n",
      "Coin0506I Presolve 3 (0) rows, 15 (0) columns and 15 (0) elements\n",
      "Clp1000I sum of infeasibilities 0 - average 0, 15 fixed columns\n",
      "Coin0506I Presolve 0 (-3) rows, 0 (-15) columns and 0 (-15) elements\n",
      "Clp0000I Optimal - objective value -0\n",
      "Clp0000I Optimal - objective value -0\n",
      "Coin0511I After Postsolve, objective 0, infeasibilities - dual 0 (0), primal 0 (0)\n",
      "Clp0006I 0  Obj -0 Dual inf 2240.8333 (15)\n",
      "Clp0000I Optimal - objective value 1194.6667\n",
      "Clp0000I Optimal - objective value 1194.6667\n",
      "Clp0000I Optimal - objective value 1194.6667\n",
      "Clp0032I Optimal objective 1194.666667 - 0 iterations time 0.002, Idiot 0.00\n",
      "\n",
      "Starting MIP optimization\n",
      "Cgl0003I 0 fixed, 0 tightened bounds, 1 strengthened rows, 0 substitutions\n",
      "Cgl0004I processed model has 3 rows, 15 columns (15 integer (15 of which binary)) and 15 elements\n",
      "Coin3009W Conflict graph built in 0.000 seconds, density: 3.226%\n",
      "Cgl0015I Clique Strengthening extended 0 cliques, 0 were dominated\n",
      "Cbc0045I Nauty did not find any useful orbits in time 6.8e-05\n",
      "Cbc0038I Initial state - 2 integers unsatisfied sum - 0.47619\n",
      "Cbc0038I Pass   1: suminf.    0.14286 (1) obj. -1162.86 iterations 2\n",
      "Cbc0038I Solution found of -1060\n",
      "Cbc0038I Rounding solution of -1160 is better than previous of -1060\n",
      "\n",
      "Cbc0038I Before mini branch and bound, 13 integers at bound fixed and 0 continuous\n",
      "Cbc0038I Mini branch and bound did not improve solution (0.00 seconds)\n",
      "Cbc0038I Round again with cutoff of -1171.95\n",
      "Cbc0038I Reduced cost fixing fixed 5 variables on major pass 2\n",
      "Cbc0038I Pass   2: suminf.    0.23381 (2) obj. -1171.95 iterations 2\n",
      "Cbc0038I Pass   3: suminf.    0.52540 (2) obj. -1171.95 iterations 2\n",
      "Cbc0038I Pass   4: suminf.    0.68048 (2) obj. -1171.95 iterations 3\n",
      "Cbc0038I Pass   5: suminf.    0.44809 (2) obj. -1171.95 iterations 2\n",
      "Cbc0038I Pass   6: suminf.    0.60873 (2) obj. -1171.95 iterations 2\n",
      "Cbc0038I Pass   7: suminf.    1.31110 (3) obj. -1171.95 iterations 4\n",
      "Cbc0038I Pass   8: suminf.    0.83888 (3) obj. -1171.95 iterations 2\n",
      "Cbc0038I Pass   9: suminf.    0.55286 (2) obj. -1171.95 iterations 1\n",
      "Cbc0038I Pass  10: suminf.    0.50524 (2) obj. -1171.95 iterations 1\n",
      "Cbc0038I Pass  11: suminf.    0.69206 (2) obj. -1171.95 iterations 2\n",
      "Cbc0038I Pass  12: suminf.    0.80524 (3) obj. -1171.95 iterations 4\n",
      "Cbc0038I Pass  13: suminf.    0.80524 (3) obj. -1171.95 iterations 0\n",
      "Cbc0038I Pass  14: suminf.    0.80905 (3) obj. -1171.95 iterations 2\n",
      "Cbc0038I Pass  15: suminf.    0.88048 (3) obj. -1171.95 iterations 2\n",
      "Cbc0038I Pass  16: suminf.    0.82620 (4) obj. -1171.95 iterations 3\n",
      "Cbc0038I Pass  17: suminf.    1.26434 (4) obj. -1171.95 iterations 5\n",
      "Cbc0038I Pass  18: suminf.    0.66111 (4) obj. -1171.95 iterations 2\n",
      "Cbc0038I Pass  19: suminf.    0.85191 (3) obj. -1171.95 iterations 2\n",
      "Cbc0038I Pass  20: suminf.    0.83532 (3) obj. -1171.95 iterations 1\n",
      "Cbc0038I Pass  21: suminf.    0.85191 (3) obj. -1171.95 iterations 2\n",
      "Cbc0038I Pass  22: suminf.    0.80557 (3) obj. -1171.95 iterations 4\n",
      "Cbc0038I Pass  23: suminf.    0.41952 (2) obj. -1171.95 iterations 1\n",
      "Cbc0038I Pass  24: suminf.    0.48048 (2) obj. -1171.95 iterations 3\n",
      "Cbc0038I Pass  25: suminf.    0.41952 (2) obj. -1171.95 iterations 1\n",
      "Cbc0038I Pass  26: suminf.    0.48048 (2) obj. -1171.95 iterations 3\n",
      "Cbc0038I Pass  27: suminf.    0.82938 (4) obj. -1171.95 iterations 2\n",
      "Cbc0038I Pass  28: suminf.    0.80524 (3) obj. -1171.95 iterations 1\n",
      "Cbc0038I Pass  29: suminf.    0.80905 (3) obj. -1171.95 iterations 2\n",
      "Cbc0038I Pass  30: suminf.    0.82620 (4) obj. -1171.95 iterations 2\n",
      "Cbc0038I Pass  31: suminf.    0.85003 (4) obj. -1171.95 iterations 5\n",
      "Cbc0038I Rounding solution of -1170 is better than previous of -1160\n",
      "\n",
      "Cbc0038I Before mini branch and bound, 5 integers at bound fixed and 0 continuous\n",
      "Cbc0038I Full problem 3 rows 15 columns, reduced to 2 rows 6 columns\n",
      "Cbc0038I Mini branch and bound did not improve solution (0.00 seconds)\n",
      "Cbc0038I Round again with cutoff of -1181.9\n",
      "Cbc0038I Reduced cost fixing fixed 8 variables on major pass 3\n",
      "Cbc0038I Pass  31: suminf.    0.33333 (2) obj. -1181.9 iterations 0\n",
      "Cbc0038I Pass  32: suminf.    0.44246 (2) obj. -1181.9 iterations 2\n",
      "Cbc0038I Pass  33: suminf.    0.39286 (2) obj. -1187.86 iterations 1\n",
      "Cbc0038I Pass  34: suminf.    0.47619 (2) obj. -1189.52 iterations 1\n",
      "Cbc0038I Pass  35: suminf.    0.70238 (3) obj. -1181.9 iterations 6\n",
      "Cbc0038I Pass  36: suminf.    0.60476 (2) obj. -1181.9 iterations 2\n",
      "Cbc0038I Pass  37: suminf.    0.60913 (2) obj. -1181.9 iterations 2\n",
      "Cbc0038I Pass  38: suminf.    0.64879 (3) obj. -1181.9 iterations 5\n",
      "Cbc0038I Pass  39: suminf.    0.59523 (3) obj. -1181.9 iterations 1\n",
      "Cbc0038I Pass  40: suminf.    0.68095 (2) obj. -1181.9 iterations 2\n",
      "Cbc0038I Pass  41: suminf.    0.70238 (3) obj. -1181.9 iterations 4\n",
      "Cbc0038I Pass optimal solution cost 1170.0 found\n"
     ]
    }
   ],
   "source": [
    "# O OPTIMAL é retornado quando o processamento trmina e a solução ótima é encontrada\n",
    "\n",
    "status = m.optimize() \n",
    "if status == OptimizationStatus.OPTIMAL:  \n",
    " print(f'optimal solution cost {m.objective_value} found') "
   ]
  },
  {
   "cell_type": "markdown",
   "id": "6b41af11-9236-4aab-90a7-4eddff27c14c",
   "metadata": {},
   "source": [
    "##### Resultados:"
   ]
  },
  {
   "cell_type": "code",
   "execution_count": 23,
   "id": "2edad9fa-ba6b-49ed-8c1b-0039d7026114",
   "metadata": {},
   "outputs": [],
   "source": [
    "results = {}\n",
    "for i in range(3):  \n",
    "    results[i+1] = [m.vars[j].x for j in range(5*i,5*i+5)]"
   ]
  },
  {
   "cell_type": "code",
   "execution_count": 24,
   "id": "174ea472-f231-4d3b-9c0f-e4aeed38251a",
   "metadata": {},
   "outputs": [
    {
     "data": {
      "text/plain": [
       "{1: [1.0, 0.0, 1.0, 1.0, 1.0],\n",
       " 2: [1.0, 1.0, 0.0, 1.0, 1.0],\n",
       " 3: [0.0, 1.0, 1.0, 0.0, 1.0]}"
      ]
     },
     "execution_count": 24,
     "metadata": {},
     "output_type": "execute_result"
    }
   ],
   "source": [
    "results"
   ]
  },
  {
   "cell_type": "markdown",
   "id": "6c839153-8503-456a-a4f3-15e747415fe6",
   "metadata": {},
   "source": [
    "##### Alocando em um dataframe o resultado"
   ]
  },
  {
   "cell_type": "code",
   "execution_count": 27,
   "id": "b82f7b20-2e2e-46ec-9269-e691da526f02",
   "metadata": {},
   "outputs": [
    {
     "data": {
      "text/html": [
       "<div>\n",
       "<style scoped>\n",
       "    .dataframe tbody tr th:only-of-type {\n",
       "        vertical-align: middle;\n",
       "    }\n",
       "\n",
       "    .dataframe tbody tr th {\n",
       "        vertical-align: top;\n",
       "    }\n",
       "\n",
       "    .dataframe thead th {\n",
       "        text-align: right;\n",
       "    }\n",
       "</style>\n",
       "<table border=\"1\" class=\"dataframe\">\n",
       "  <thead>\n",
       "    <tr style=\"text-align: right;\">\n",
       "      <th></th>\n",
       "      <th>1</th>\n",
       "      <th>2</th>\n",
       "      <th>3</th>\n",
       "    </tr>\n",
       "  </thead>\n",
       "  <tbody>\n",
       "    <tr>\n",
       "      <th>A</th>\n",
       "      <td>1.0</td>\n",
       "      <td>1.0</td>\n",
       "      <td>0.0</td>\n",
       "    </tr>\n",
       "    <tr>\n",
       "      <th>B</th>\n",
       "      <td>0.0</td>\n",
       "      <td>1.0</td>\n",
       "      <td>1.0</td>\n",
       "    </tr>\n",
       "    <tr>\n",
       "      <th>C</th>\n",
       "      <td>1.0</td>\n",
       "      <td>0.0</td>\n",
       "      <td>1.0</td>\n",
       "    </tr>\n",
       "    <tr>\n",
       "      <th>D</th>\n",
       "      <td>1.0</td>\n",
       "      <td>1.0</td>\n",
       "      <td>0.0</td>\n",
       "    </tr>\n",
       "    <tr>\n",
       "      <th>E</th>\n",
       "      <td>1.0</td>\n",
       "      <td>1.0</td>\n",
       "      <td>1.0</td>\n",
       "    </tr>\n",
       "  </tbody>\n",
       "</table>\n",
       "</div>"
      ],
      "text/plain": [
       "     1    2    3\n",
       "A  1.0  1.0  0.0\n",
       "B  0.0  1.0  1.0\n",
       "C  1.0  0.0  1.0\n",
       "D  1.0  1.0  0.0\n",
       "E  1.0  1.0  1.0"
      ]
     },
     "execution_count": 27,
     "metadata": {},
     "output_type": "execute_result"
    }
   ],
   "source": [
    "result = pd.DataFrame(data = results, index = ['A','B','C','D','E'])\n",
    "result"
   ]
  },
  {
   "cell_type": "markdown",
   "id": "844805dc-95c9-4f12-a5c6-5629de213785",
   "metadata": {},
   "source": [
    "##### Conclusão:\n",
    "\n",
    "* No primeiro ano, devem ser compradas as ações A, C, D e E\n",
    "* No segundo, A, B, D e E\n",
    "* no terceiro, B, C e E.\n",
    "\n",
    "##### Nestes termos, teremos o retorno máximo possível."
   ]
  },
  {
   "cell_type": "markdown",
   "id": "fb601b46-8028-4861-9016-a1434c3ef9c7",
   "metadata": {},
   "source": [
    "***\n",
    "### Problema da Seleção de Projetos\n",
    "***\n",
    "\n",
    "##### Um empresário está fazendo um planejamento para os próximos 3 anos. Ele tem disponíveis R$25 milhões para investir anualmente e 5 projetos estão sob consideração. A tabela abaixo apresenta os retornos esperados para cada projeto ao final do terceiro ano e seus respectivos desembolsos anuais."
   ]
  },
  {
   "cell_type": "markdown",
   "id": "73840020-fbdc-49a4-89dc-dc2b9356d1a7",
   "metadata": {},
   "source": [
    "<center><img src = 'assets/projetos.png'></center>"
   ]
  },
  {
   "cell_type": "markdown",
   "id": "ecc35ead-3848-4915-8b58-a4cef17949dd",
   "metadata": {},
   "source": [
    "##### Quais projetos devem ser escolhidos pelo empresário?"
   ]
  },
  {
   "cell_type": "markdown",
   "id": "0b46b9ca-e629-4533-9bc6-9c30397e8b1f",
   "metadata": {},
   "source": [
    "***\n",
    "### Resolução:"
   ]
  },
  {
   "cell_type": "markdown",
   "id": "23216dd7-fef3-44f8-a8fe-98ea218b6cf0",
   "metadata": {},
   "source": [
    "##### Nosso objetivo é maximizar o retorno dos investimentos, isto é, a soma dos retornos dos projetos escolhidos tem que ser máxima."
   ]
  },
  {
   "cell_type": "code",
   "execution_count": 28,
   "id": "b5cf0496-73e3-4ea9-9b95-d3204d03fa4b",
   "metadata": {},
   "outputs": [],
   "source": [
    "# Retorno de cada um dos projetos:\n",
    "\n",
    "r = [20, 40, 20, 15, 30]\n",
    "\n",
    "# Investimento disponível para cada um dos anos\n",
    "limite = [25, 25, 25]\n",
    "\n",
    "# Aportes necessários para cada projeto em cada um dos 3 anos:\n",
    "a = [\n",
    "      [5, 4, 3, 7, 8],  #ano 1\n",
    "      [1, 7, 9, 4, 6],  #ano 2\n",
    "      [8, 10, 2, 1, 10] #ano 3\n",
    "    ]\n",
    "\n",
    "# Projetos disponíveis:\n",
    "P = range(len(r))\n",
    "\n",
    "# Quantidade de anos:\n",
    "T = range(len(limite))"
   ]
  },
  {
   "cell_type": "code",
   "execution_count": 29,
   "id": "5a578d0b-e717-4078-9763-996f07c9e959",
   "metadata": {},
   "outputs": [],
   "source": [
    "from mip.model import *\n",
    "\n",
    "m_cbc = Model(sense = MAXIMIZE, solver_name = CBC)"
   ]
  },
  {
   "cell_type": "code",
   "execution_count": 30,
   "id": "47a8389b-47ce-4df4-9083-dcd83738a196",
   "metadata": {},
   "outputs": [],
   "source": [
    "# Definição da variável binária x:\n",
    "x = [m_cbc.add_var(var_type=BINARY) for projeto in P]"
   ]
  },
  {
   "cell_type": "code",
   "execution_count": 32,
   "id": "5d53fe8b-46e8-44c3-9da7-1859fefe12f8",
   "metadata": {},
   "outputs": [
    {
     "name": "stdout",
     "output_type": "stream",
     "text": [
      " 42: suminf.    0.68095 (2) obj. -1181.9 iterations 2\n",
      "Cbc0038I Pass  43: suminf.    0.82738 (3) obj. -1181.9 iterations 2\n",
      "Cbc0038I Pass  44: suminf.    0.60476 (2) obj. -1181.9 iterations 3\n",
      "Cbc0038I Pass  45: suminf.    0.60476 (2) obj. -1181.9 iterations 0\n",
      "Cbc0038I Pass  46: suminf.    0.60714 (2) obj. -1182.14 iterations 2\n",
      "Cbc0038I Pass  47: suminf.    0.44246 (2) obj. -1181.9 iterations 4\n",
      "Cbc0038I Pass  48: suminf.    0.33333 (2) obj. -1181.9 iterations 2\n",
      "Cbc0038I Pass  49: suminf.    0.44246 (2) obj. -1181.9 iterations 2\n",
      "Cbc0038I Pass  50: suminf.    0.33333 (2) obj. -1181.9 iterations 2\n",
      "Cbc0038I Pass  51: suminf.    0.44246 (2) obj. -1181.9 iterations 2\n",
      "Cbc0038I Pass  52: suminf.    0.33333 (2) obj. -1181.9 iterations 2\n",
      "Cbc0038I Pass  53: suminf.    0.53968 (2) obj. -1181.9 iterations 3\n",
      "Cbc0038I Pass  54: suminf.    0.53968 (2) obj. -1181.9 iterations 0\n",
      "Cbc0038I Pass  55: suminf.    0.68095 (2) obj. -1181.9 iterations 3\n",
      "Cbc0038I Pass  56: suminf.    0.59523 (3) obj. -1181.9 iterations 2\n",
      "Cbc0038I Pass  57: suminf.    0.68095 (2) obj. -1181.9 iterations 2\n",
      "Cbc0038I Pass  58: suminf.    0.64879 (3) obj. -1181.9 iterations 3\n",
      "Cbc0038I Pass  59: suminf.    0.64879 (3) obj. -1181.9 iterations 0\n",
      "Cbc0038I Pass  60: suminf.    1.01187 (3) obj. -1181.9 iterations 1\n",
      "Cbc0038I No solution found this major pass\n",
      "Cbc0038I Before mini branch and bound, 9 integers at bound fixed and 0 continuous\n",
      "Cbc0038I Mini branch and bound did not improve solution (0.01 seconds)\n",
      "Cbc0038I After 0.01 seconds - Feasibility pump exiting with objective of -1170 - took 0.00 seconds\n",
      "Cbc0012I Integer solution of -1170 found by feasibility pump after 0 iterations and 0 nodes (0.01 seconds)\n",
      "Cbc0038I Full problem 3 rows 15 columns, reduced to 1 rows 2 columns\n",
      "Cbc0001I Search completed - best objective -1170, took 0 iterations and 0 nodes (0.01 seconds)\n",
      "Cbc0035I Maximum depth 0, 8 variables fixed on reduced cost\n",
      "Total time (CPU seconds):       0.01   (Wallclock seconds):       0.01\n",
      "\n",
      "Starting solution of the Linear programming relaxation problem using Primal Simplex\n",
      "\n",
      "Coin0506I Presolve 3 (0) rows, 5 (0) columns and 15 (0) elements\n",
      "Clp1000I sum of infeasibilities 2.55511e-11 - average 8.51704e-12, 1 fixed columns\n",
      "Coin0506I Presolve 3 (0) rows, 4 (-1) columns and 12 (-3) elements\n",
      "Clp0006I 0  Obj 108.68418 Dual inf 9214.2857 (4)\n",
      "Clp0029I End of values pass after 4 iterations\n",
      "Clp0000I Optimal - objective value 108.68421\n",
      "Clp0000I Optimal - objective value 108.68421\n",
      "Coin0511I After Postsolve, objective 108.68421, infeasibilities - dual 0 (0), primal 0 (0)\n",
      "Clp0006I 0  Obj 108.68421\n",
      "Clp0000I Optimal - objective value 108.68421\n",
      "Clp0000I Optimal - objective value 108.68421\n",
      "Clp0000I Optimal - objective value 108.68421\n",
      "Clp0032I Optimal objective 108.6842105 - 0 iterations time 0.002, Idiot 0.00\n",
      "\n",
      "Starting MIP optimization\n",
      "Cgl0003I 0 fixed, 0 tightened bounds, 2 strengthened rows, 0 substitutions\n",
      "Cgl0003I 0 fixed, 0 tightened bounds, 3 strengthened rows, 0 substitutions\n",
      "Cgl0003I 0 fixed, 0 tightened bounds, 2 strengthened rows, 0 substitutions\n",
      "Cgl0003I 0 fixed, 0 tightened bounds, 1 strengthened rows, 0 substitutions\n",
      "Cgl0004I processed model has 3 rows, 5 columns (5 integer (5 of which binary)) and 15 elements\n",
      "Coin3009W Conflict graph built in 0.000 seconds, density: 9.091%\n",
      "Cgl0015I Clique Strengthening extended 0 cliques, 0 were dominated\n",
      "Cbc0045I Nauty did not find any useful orbits in time 2.6e-05\n",
      "Cbc0038I Initial state - 2 integers unsatisfied sum - 0.545455\n",
      "Cbc0038I Solution found of -90\n",
      "Cbc0038I Before mini branch and bound, 3 integers at bound fixed and 0 continuous\n",
      "Cbc0038I Full problem 3 rows 5 columns, reduced to 0 rows 0 columns\n",
      "Cbc0038I Mini branch and bound did not improve solution (0.00 seconds)\n",
      "Cbc0038I Round again with cutoff of -95.3635\n",
      "Cbc0038I Reduced cost fixing fixed 2 variables on major pass 2\n",
      "Cbc0038I Pass   1: suminf.    0.31168 (2) obj. -95.3635 iterations 1\n",
      "Cbc0038I Pass   2: suminf.    0.60000 (2) obj. -97 iterations 2\n",
      "Cbc0038I Pass   3: suminf.    0.51818 (2) obj. -95.3635 iterations 2\n",
      "Cbc0038I Pass   4: suminf.    0.51818 (2) obj. -95.3635 iterations 0\n",
      "Cbc0038I Pass   5: suminf.    0.51818 (2) obj. -95.3635 iterations 0\n",
      "Cbc0038I Pass   6: suminf.    0.51818 (2) obj. -95.3635 iterations 0\n",
      "Cbc0038I Pass   7: suminf.    0.51818 (2) obj. -95.3635 iterations 0\n",
      "Cbc0038I Pass   8: suminf.    0.31168 (2) obj. -95.3635 iterations 1\n",
      "Cbc0038I Pass   9: suminf.    0.50000 (2) obj. -95.3635 iterations 3\n",
      "Cbc0038I Pass  10: suminf.    0.31168 (2) obj. -95.3635 iterations 2\n",
      "Cbc0038I Pass  11: suminf.    0.31168 (2) obj. -95.3635 iterations 0\n",
      "Cbc0038I Pass  12: suminf.    0.31168 (2) obj. -95.3635 iterations 0\n",
      "Cbc0038I Pass  13: suminf.    0.31168 (2) obj. -95.3635 iterations 0\n",
      "Cbc0038I Pass  14: suminf.    0.31168 (2) obj. -95.3635 iterations 0\n",
      "Cbc0038I Pass  15: suminf.    0.31168 (2) obj. -95.3635 iterations 0\n",
      "Cbc0038I Pass  16: suminf.    0.31168 (2) obj. -95.3635 iterations 0\n",
      "Cbc0038I Pass  17: suminf.    0.31168 (2) obj. -95.3635 iterations 0\n",
      "Cbc0038I Pass  18: suminf.    0.31168 (2) obj. -95.3635 iterations 0\n",
      "Cbc0038I Pass  19: suminf.    0.31168 (2) obj. -95.3635 iterations 0\n",
      "Cbc0038I Pass  20: suminf.    0.31168 (2) obj. -95.3635 iterations 0\n",
      "Cbc0038I Pass  21: suminf.    0.31168 (2) obj. -95.3635 iterations 0\n",
      "Cbc0038I Pass  22: suminf.    0.31168 (2) obj. -95.3635 iterations 0\n",
      "Cbc0038I Pass  23: suminf.    0.31168 (2) obj. -95.3635 iterations 0\n",
      "Cbc0038I Pass  24: suminf.    0.31168 (2) obj. -95.3635 iterations 0\n",
      "Cbc0038I Pass  25: suminf.    0.31168 (2) obj. -95.3635 iterations 0\n",
      "Cbc0038I Pass  26: suminf.    0.31168 (2) obj. -95.3635 iterations 0\n",
      "Cbc0038I Pass  27: suminf.    0.31168 (2) obj. -95.3635 iterations 0\n",
      "Cbc0038I Pass  28: suminf.    0.31168 (2) obj. -95.3635 iterations 0\n",
      "Cbc0038I Pass  29: suminf.    0.31168 (2) obj. -95.3635 iterations 0\n",
      "Cbc0038I Pass  30: suminf.    0.31168 (2) obj. -95.3635 iterations 0\n",
      "Cbc0038I No solution found this major pass\n",
      "Cbc0038I Before mini branch and bound, 2 integers at bound fixed and 0 continuous\n",
      "Cbc0038I Full problem 3 rows 5 columns, reduced to 0 rows 0 columns\n",
      "Cbc0038I Mini branch and bound did not improve solution (0.00 seconds)\n",
      "Cbc0038I After 0.00 seconds - Feasibility pump exiting with objective of -90 - took 0.00 seconds\n",
      "Cbc0012I Integer solution of -90 found by feasibility pump after 0 iterations and 0 nodes (0.00 seconds)\n",
      "Cbc0012I Integer solution of -95 found by DiveCoefficient after 0 iterations and 0 nodes (0.00 seconds)\n",
      "Cbc0013I At root node, 0 cuts changed objective from -98.636364 to -95 in 2 passes\n",
      "Cbc0014I Cut generator 0 (Probing) - 0 row cuts average 0.0 elements, 2 column cuts (2 active)  in 0.000 seconds - new frequency is 1\n",
      "Cbc0014I Cut generator 1 (Gomory) - 0 row cuts average 0.0 elements, 0 column cuts (0 active)  in 0.000 seconds - new frequency is -100\n",
      "Cbc0014I Cut generator 2 (Knapsack) - 0 row cuts average 0.0 elements, 0 column cuts (0 active) "
     ]
    },
    {
     "data": {
      "text/plain": [
       "<OptimizationStatus.OPTIMAL: 0>"
      ]
     },
     "execution_count": 32,
     "metadata": {},
     "output_type": "execute_result"
    }
   ],
   "source": [
    "# Objetivo: Maximizar o retorno obtido dos investimentos:\n",
    "m_cbc.objective = maximize(xsum(r[projeto] * x[projeto] for projeto in P))\n",
    "\n",
    "# Restrições: Atender ao limite de investimento em cada um dos anos\n",
    "\n",
    "for ano in range(3):  \n",
    "    m_cbc += xsum(a[ano][projeto] * x[projeto] for projeto in P) <= limite[ano]\n",
    "\n",
    "# Otimizando o modelo:\n",
    "m_cbc.optimize()"
   ]
  },
  {
   "cell_type": "code",
   "execution_count": 44,
   "id": "9080fb63-6939-4a45-9178-545119743eba",
   "metadata": {},
   "outputs": [
    {
     "name": "stdout",
     "output_type": "stream",
     "text": [
      "Cgl0003I 0 fixed, 0 tightened bounds, 2 strengthened rows, 0 substitutions\n",
      "Cgl0003I 0 fixed, 0 tightened bounds, 3 strengthened rows, 0 substitutions\n",
      "Cgl0003I 0 fixed, 0 tightened bounds, 2 strengthened rows, 0 substitutions\n",
      "Cgl0003I 0 fixed, 0 tightened bounds, 1 strengthened rows, 0 substitutions\n",
      "Cgl0004I processed model has 3 rows, 5 columns (5 integer (5 of which binary)) and 15 elements\n",
      "Coin3009W Conflict graph built in 0.000 seconds, density: 9.091%\n",
      "Cgl0015I Clique Strengthening extended 0 cliques, 0 were dominated\n",
      "Cbc0045I MIPStart provided solution with cost 95\n",
      "Cbc0012I Integer solution of 95 found by Reduced search after 0 iterations and 0 nodes (0.00 seconds)\n",
      "Cbc0006I The LP relaxation is infeasible or too expensive\n",
      "Cbc0045I Solution of -95 already found by heuristic\n",
      "Total time (CPU seconds):       0.00   (Wallclock seconds):       0.00\n",
      "\n",
      "Clp0000I Optimal - objective value 108.68421\n",
      "\n",
      "Starting MIP optimization\n",
      "optimal solution cost 95.0 found\n"
     ]
    }
   ],
   "source": [
    "status = m_cbc.optimize() \n",
    "if status == OptimizationStatus.OPTIMAL:  \n",
    " print('optimal solution cost {} found'.format(m_cbc.objective_value)) "
   ]
  },
  {
   "cell_type": "code",
   "execution_count": 43,
   "id": "14eebebb-4b39-471e-a235-4b0ae5674842",
   "metadata": {},
   "outputs": [
    {
     "name": "stdout",
     "output_type": "stream",
     "text": [
      "1.0\n",
      "1.0\n",
      "1.0\n",
      "1.0\n",
      "0.0\n"
     ]
    }
   ],
   "source": [
    "for projeto in P:\n",
    "    print(m_cbc.vars[projeto].x)"
   ]
  },
  {
   "cell_type": "markdown",
   "id": "1d3be3f6-906d-4b06-918f-323bf2d14e44",
   "metadata": {},
   "source": [
    "##### Resultados:\n",
    "\n",
    "* O valor ótimo encontrado, ou seja, o maior retorno possível APÓS os 3 anos de investimento será de R$95 milhões.\n",
    "* Serão escolhidos os projetos 1, 2, 3 e 4. O projeto 5 não será escolhido."
   ]
  },
  {
   "cell_type": "markdown",
   "id": "c696f01b-67e1-4ffe-a22f-b7b49809a60a",
   "metadata": {},
   "source": [
    "***\n",
    "##### Incluindo mais restrições:\n",
    "\n",
    "> a) Não se pode selecionar mais do que 3 projetos"
   ]
  },
  {
   "cell_type": "code",
   "execution_count": 46,
   "id": "0bc5994c-b857-4d84-aa4f-28874edae87e",
   "metadata": {},
   "outputs": [
    {
     "name": "stdout",
     "output_type": "stream",
     "text": [
      "Cgl0003I 0 fixed, 0 tightened bounds, 2 strengthened rows, 0 substitutions\n",
      "Cgl0003I 0 fixed, 0 tightened bounds, 3 strengthened rows, 0 substitutions\n",
      "Cgl0003I 0 fixed, 0 tightened bounds, 2 strengthened rows, 0 substitutions\n",
      "Cgl0003I 0 fixed, 0 tightened bounds, 1 strengthened rows, 0 substitutions\n",
      "Cgl0004I processed model has 3 rows, 5 columns (5 integer (5 of which binary)) and 15 elements\n",
      "Coin3009W Conflict graph built in 0.000 seconds, density: 9.091%\n",
      "Cgl0015I Clique Strengthening extended 0 cliques, 0 were dominated\n",
      "Cbc0045I MIPStart provided solution with cost 95\n",
      "Cbc0012I Integer solution of 95 found by Reduced search after 0 iterations and 0 nodes (0.00 seconds)\n",
      "Cbc0006I The LP relaxation is infeasible or too expensive\n",
      "Cbc0045I Solution of -95 already found by heuristic\n",
      "Total time (CPU seconds):       0.00   (Wallclock seconds):       0.00\n",
      "\n",
      "Starting solution of the Linear programming relaxation problem using Primal Simplex\n",
      "\n",
      "Coin0506I Presolve 4 (-2) rows, 5 (0) columns and 20 (-10) elements\n",
      "Clp1000I sum of infeasibilities 0 - average 0, 1 fixed columns\n",
      "Coin0506I Presolve 4 (0) rows, 4 (-1) columns and 16 (-4) elements\n",
      "Clp0006I 0  Obj 89.999938 Dual inf 8500 (4)\n",
      "Clp0029I End of values pass after 4 iterations\n",
      "Clp0014I Perturbing problem by 0.001% of 1.5156375 - largest nonzero change 0 ( 0%) - largest zero change 1.4640474e-05\n",
      "Clp0000I Optimal - objective value 90\n",
      "Clp0000I Optimal - objective value 90\n",
      "Coin0511I After Postsolve, objective 90, infeasibilities - dual 0 (0), primal 0 (0)\n",
      "Clp0006I 0  Obj 90\n",
      "Clp0000I Optimal - objective value 90\n",
      "Clp0000I Optimal - objective value 90\n",
      "Clp0000I Optimal - objective value 90\n",
      "Coin0511I After Postsolve, objective 90, infeasibilities - dual 0 (0), primal 0 (0)\n",
      "Clp0032I Optimal objective 90 - 0 iterations time 0.002, Presolve 0.00, Idiot 0.00\n",
      "\n",
      "Starting MIP optimization\n"
     ]
    },
    {
     "data": {
      "text/plain": [
       "<OptimizationStatus.OPTIMAL: 0>"
      ]
     },
     "execution_count": 46,
     "metadata": {},
     "output_type": "execute_result"
    }
   ],
   "source": [
    "m_cbc_a = Model(sense = MAXIMIZE, solver_name = CBC)\n",
    "\n",
    "# Definição da variável binária x:\n",
    "x = [m_cbc_a.add_var(var_type=BINARY) for projeto in P]\n",
    "\n",
    "# Objetivo: Maximizar o retorno obtido dos investimentos:\n",
    "m_cbc_a.objective = maximize(xsum(r[projeto] * x[projeto] for projeto in P))\n",
    "\n",
    "# Restrições: Atender ao limite de investimento em cada um dos anos\n",
    "\n",
    "for ano in range(3):  \n",
    "    m_cbc_a += xsum(a[ano][projeto] * x[projeto] for projeto in P) <= limite[ano]\n",
    "    m_cbc_a += xsum(x[projeto] for projeto in P) <= 3\n",
    "\n",
    "# Otimizando o modelo:\n",
    "m_cbc_a.optimize()"
   ]
  },
  {
   "cell_type": "code",
   "execution_count": 47,
   "id": "b581007b-3e04-4e20-8aaa-a9062f89edc6",
   "metadata": {},
   "outputs": [
    {
     "name": "stdout",
     "output_type": "stream",
     "text": [
      "Cgl0004I processed model has 4 rows, 5 columns (5 integer (5 of which binary)) and 20 elements\n",
      "Coin3009W Conflict graph built in 0.000 seconds, density: 9.091%\n",
      "Cgl0015I Clique Strengthening extended 0 cliques, 0 were dominated\n",
      "Cbc0045I Nauty did not find any useful orbits in time 5.3e-05\n",
      "Cbc0038I Initial state - 0 integers unsatisfied sum - 0\n",
      "Cbc0038I Solution found of -90\n",
      "Cbc0038I Before mini branch and bound, 5 integers at bound fixed and 0 continuous\n",
      "Cbc0038I Mini branch and bound did not improve solution (0.00 seconds)\n",
      "Cbc0038I After 0.00 seconds - Feasibility pump exiting with objective of -90 - took 0.00 seconds\n",
      "Cbc0012I Integer solution of -90 found by feasibility pump after 0 iterations and 0 nodes (0.00 seconds)\n",
      "Cbc0001I Search completed - best objective -90, took 0 iterations and 0 nodes (0.00 seconds)\n",
      "Cbc0035I Maximum depth 0, 0 variables fixed on reduced cost\n",
      "Total time (CPU seconds):       0.00   (Wallclock seconds):       0.00\n",
      "\n",
      "Clp0000I Optimal - objective value 90\n",
      "\n",
      "Starting MIP optimization\n",
      "optimal solution cost 90.0 found\n"
     ]
    }
   ],
   "source": [
    "status = m_cbc_a.optimize() \n",
    "if status == OptimizationStatus.OPTIMAL:  \n",
    " print('optimal solution cost {} found'.format(m_cbc_a.objective_value)) "
   ]
  },
  {
   "cell_type": "code",
   "execution_count": 48,
   "id": "e544e32e-21cd-44a0-9cf3-771c72a6190e",
   "metadata": {},
   "outputs": [
    {
     "name": "stdout",
     "output_type": "stream",
     "text": [
      "0.0\n",
      "1.0\n",
      "1.0\n",
      "0.0\n",
      "1.0\n"
     ]
    }
   ],
   "source": [
    "for projeto in P:\n",
    "    print(m_cbc_a.vars[projeto].x)"
   ]
  },
  {
   "cell_type": "markdown",
   "id": "f2571ea0-a70f-4d72-954a-246422768139",
   "metadata": {},
   "source": [
    "##### Neste caso, o retorno ótimo será de R$90 milhões e os projetos escolhidos serão: 2, 3 e 5."
   ]
  },
  {
   "cell_type": "markdown",
   "id": "0816912e-81e2-4925-863b-58cc78aac45a",
   "metadata": {},
   "source": [
    "> b) O projeto 3 deve ser selecionado se o projeto 2 for selecionado."
   ]
  },
  {
   "cell_type": "code",
   "execution_count": 49,
   "id": "7909827d-6278-4b9b-a0f7-6da56f5d4bb0",
   "metadata": {},
   "outputs": [
    {
     "name": "stdout",
     "output_type": "stream",
     "text": [
      "Cgl0004I processed model has 4 rows, 5 columns (5 integer (5 of which binary)) and 20 elements\n",
      "Coin3009W Conflict graph built in 0.000 seconds, density: 9.091%\n",
      "Cgl0015I Clique Strengthening extended 0 cliques, 0 were dominated\n",
      "Cbc0045I MIPStart provided solution with cost 90\n",
      "Cbc0012I Integer solution of 90 found by Reduced search after 0 iterations and 0 nodes (0.00 seconds)\n",
      "Cbc0006I The LP relaxation is infeasible or too expensive\n",
      "Cbc0045I Solution of -90 already found by heuristic\n",
      "Total time (CPU seconds):       0.00   (Wallclock seconds):       0.00\n",
      "\n",
      "Starting solution of the Linear programming relaxation problem using Primal Simplex\n",
      "\n",
      "Coin0506I Presolve 4 (-2) rows, 5 (0) columns and 17 (-4) elements\n",
      "Clp1000I sum of infeasibilities 1.1422e-11 - average 2.85549e-12, 1 fixed columns\n",
      "Coin0506I Presolve 4 (0) rows, 4 (-1) columns and 14 (-3) elements\n",
      "Clp0006I 0  Obj 108.68414 Dual inf 11500 (4)\n",
      "Clp0029I End of values pass after 4 iterations\n",
      "Clp0000I Optimal - objective value 108.68421\n",
      "Clp0000I Optimal - objective value 108.68421\n",
      "Coin0511I After Postsolve, objective 108.68421, infeasibilities - dual 0 (0), primal 0 (0)\n",
      "Clp0006I 0  Obj 108.68421\n",
      "Clp0000I Optimal - objective value 108.68421\n",
      "Clp0000I Optimal - objective value 108.68421\n",
      "Clp0000I Optimal - objective value 108.68421\n",
      "Coin0511I After Postsolve, objective 108.68421, infeasibilities - dual 0 (0), primal 0 (0)\n",
      "Clp0032I Optimal objective 108.6842105 - 0 iterations time 0.002, Presolve 0.00, Idiot 0.00\n",
      "\n",
      "Starting MIP optimization\n",
      "Cgl0003I 0 fixed, 0 tightened bounds, 2 strengthened rows, 0 substitutions\n",
      "Cgl0003I 0 fixed, 0 tightened bounds, 3 strengthened rows, 0 substitutions\n",
      "Cgl0003I 0 fixed, 0 tightened bounds, 1 strengthened rows, 0 substitutions\n",
      "Cgl0004I processed model has 4 rows, 5 columns (5 integer (5 of which binary)) and 17 elements\n",
      "Coin3009W Conflict graph built in 0.000 seconds, density: 10.909%\n",
      "Cgl0015I Clique Strengthening extended 0 cliques, 0 were dominated\n",
      "Cbc0045I Nauty did not find any useful orbits in time 3.3e-05\n",
      "Cbc0038I Initial state - 2 integers unsatisfied sum - 0.304348\n",
      "Cbc0038I Pass   1: suminf.    0.14286 (1) obj. -99.2857 iterations 2\n",
      "Cbc0038I Solution found of -65\n",
      "Cbc0038I Rounding solution of -85 is better than previous of -65\n",
      "\n",
      "Cbc0038I Before mini branch and bound, 2 integers at bound fixed and 0 continuous\n",
      "Cbc0038I Full problem 4 rows 5 columns, reduced to 3 rows 3 columns\n",
      "Cbc0038I Mini branch and bound improved solution from -85 to -90 (0.00 seconds)\n",
      "Cbc0038I Round again with cutoff of -95.6956\n",
      "Cbc0038I Reduced cost fixing fixed 2 variables on major pass 2\n",
      "Cbc0038I Pass   2: suminf.    0.14286 (1) obj. -99.2857 iterations 0\n",
      "Cbc0038I Pass   3: suminf.    0.23261 (1) obj. -95.6956 iterations 1\n",
      "Cbc0038I Pass   4: suminf.    0.14286 (1) obj. -99.2857 iterations 1\n",
      "Cbc0038I Pass   5: suminf.    0.23261 (1) obj. -95.6956 iterations 1\n",
      "Cbc0038I Pass   6: suminf.    0.33540 (2) obj. -95.6956 iterations 2\n",
      "Cbc0038I Pass   7: suminf.    0.33540 (2) obj. -95.6956 iterations 0\n",
      "Cbc0038I Pass   8: suminf.    0.33333 (2) obj. -101.667 iterations 2\n",
      "Cbc0038I Pass   9: suminf.    0.14286 (1) obj. -99.2857 iterations 1\n",
      "Cbc0038I Pass  10: suminf.    0.14286 (1) obj. -99.2857 iterations 0\n",
      "Cbc0038I Pass  11: suminf.    0.14286 (1) obj. -99.2857 iterations 0\n",
      "Cbc0038I Pass  12: suminf.    0.33540 (2) obj. -95.6956 iterations 3\n",
      "Cbc0038I Pass  13: suminf.    0.33540 (2) obj. -95.6956 iterations 0\n",
      "Cbc0038I Pass  14: suminf.    0.33540 (2) obj. -95.6956 iterations 0\n",
      "Cbc0038I Pass  15: suminf.    0.33540 (2) obj. -95.6956 iterations 0\n",
      "Cbc0038I Pass  16: suminf.    0.33540 (2) obj. -95.6956 iterations 0\n",
      "Cbc0038I Pass  17: suminf.    0.14286 (1) obj. -99.2857 iterations 3\n",
      "Cbc0038I Pass  18: suminf.    0.33333 (2) obj. -101.667 iterations 1\n",
      "Cbc0038I Pass  19: suminf.    0.14286 (1) obj. -99.2857 iterations 1\n",
      "Cbc0038I Pass  20: suminf.    0.23261 (1) obj. -95.6956 iterations 1\n",
      "Cbc0038I Pass  21: suminf.    0.33333 (2) obj. -101.667 iterations 2\n",
      "Cbc0038I Pass  22: suminf.    0.14286 (1) obj. -99.2857 iterations 1\n",
      "Cbc0038I Pass  23: suminf.    0.23261 (1) obj. -95.6956 iterations 1\n",
      "Cbc0038I Pass  24: suminf.    0.14286 (1) obj. -99.2857 iterations 1\n",
      "Cbc0038I Pass  25: suminf.    0.33333 (2) obj. -101.667 iterations 1\n",
      "Cbc0038I Pass  26: suminf.    0.14286 (1) obj. -99.2857 iterations 1\n",
      "Cbc0038I Pass  27: suminf.    0.14286 (1) obj. -99.2857 iterations 0\n",
      "Cbc0038I Pass  28: suminf.    0.14286 (1) obj. -99.2857 iterations 0\n",
      "Cbc0038I Pass  29: suminf.    0.14286 (1) obj. -99.2857 iterations 0\n",
      "Cbc0038I Pass  30: suminf.    0.14286 (1) obj. -99.2857 iterations 0\n",
      "Cbc0038I Pass  31: suminf.    0.33540 (2) obj. -95.6956 iterations 3\n",
      "Cbc0038I No solution found this major pass\n",
      "Cbc0038I Before mini branch and bound, 2 integers at bound fixed and 0 continuous\n",
      "Cbc0038I Full problem 4 rows 5 columns, reduced to 3 rows 3 columns\n",
      "Cbc0038I Mini branch and bound did not improve solution (0.00 seconds)\n",
      "Cbc0038I After 0.00 seconds - Feasibility pump exiting with objective of -90 - took 0.00 seconds\n",
      "Cbc0012I Integer solution of -90 found by feasibility pump after 0 iterations and 0 nodes (0.00 seconds)\n",
      "Cbc0012I Integer solution of -95 found by DiveCoefficient after 0 iterations and 0 nodes (0.00 seconds)\n",
      "Cbc0013I At root node, 0 cuts changed objective from -101.95652 to -95 in 2 passes\n",
      "Cbc0014I Cut generator 0 (Probing) - 0 row cuts average 0.0 elements, 2 column cuts (2 active)  in 0.000 seconds - new frequency is 1\n",
      "Cbc0014I Cut generator 1 (Gomory) - 0 row cuts average 0.0 elements, 0 column cuts (0 active)  in 0.000 seconds - new frequency is -100\n",
      "Cbc0014I Cut generato"
     ]
    },
    {
     "data": {
      "text/plain": [
       "<OptimizationStatus.OPTIMAL: 0>"
      ]
     },
     "execution_count": 49,
     "metadata": {},
     "output_type": "execute_result"
    }
   ],
   "source": [
    "m_cbc_b = Model(sense = MAXIMIZE, solver_name = CBC)\n",
    "\n",
    "# Definição da variável binária x:\n",
    "x = [m_cbc_b.add_var(var_type=BINARY) for projeto in P]\n",
    "\n",
    "# Objetivo: Maximizar o retorno obtido dos investimentos:\n",
    "m_cbc_b.objective = maximize(xsum(r[projeto] * x[projeto] for projeto in P))\n",
    "\n",
    "# Restrições: Atender ao limite de investimento em cada um dos anos\n",
    "\n",
    "for ano in range(3):  \n",
    "    m_cbc_b += xsum(a[ano][projeto] * x[projeto] for projeto in P) <= limite[ano]\n",
    "    m_cbc_b += x[1] <= x[2]\n",
    "\n",
    "# Otimizando o modelo:\n",
    "m_cbc_b.optimize()"
   ]
  },
  {
   "cell_type": "code",
   "execution_count": 50,
   "id": "fc733711-b6f0-4ebe-9456-46e9d33e46bf",
   "metadata": {},
   "outputs": [
    {
     "name": "stdout",
     "output_type": "stream",
     "text": [
      "r 2 (Knapsack) - 0 row cuts average 0.0 elements, 0 column cuts (0 active)  in 0.000 seconds - new frequency is -100\n",
      "Cbc0014I Cut generator 3 (Clique) - 0 row cuts average 0.0 elements, 0 column cuts (0 active)  in 0.000 seconds - new frequency is -100\n",
      "Cbc0014I Cut generator 4 (OddWheel) - 0 row cuts average 0.0 elements, 0 column cuts (0 active)  in 0.000 seconds - new frequency is -100\n",
      "Cbc0014I Cut generator 5 (MixedIntegerRounding2) - 0 row cuts average 0.0 elements, 0 column cuts (0 active)  in 0.000 seconds - new frequency is -100\n",
      "Cbc0014I Cut generator 6 (FlowCover) - 0 row cuts average 0.0 elements, 0 column cuts (0 active)  in 0.000 seconds - new frequency is -100\n",
      "Cbc0001I Search completed - best objective -95, took 0 iterations and 0 nodes (0.00 seconds)\n",
      "Cbc0035I Maximum depth 0, 1 variables fixed on reduced cost\n",
      "Total time (CPU seconds):       0.01   (Wallclock seconds):       0.01\n",
      "\n",
      "Clp0000I Optimal - objective value 108.68421\n",
      "\n",
      "Starting MIP optimization\n",
      "optimal solution cost 95.0 found\n"
     ]
    }
   ],
   "source": [
    "status = m_cbc_b.optimize() \n",
    "if status == OptimizationStatus.OPTIMAL:  \n",
    " print('optimal solution cost {} found'.format(m_cbc_b.objective_value)) "
   ]
  },
  {
   "cell_type": "code",
   "execution_count": 51,
   "id": "69926e50-3053-4666-a878-10803b0b81e7",
   "metadata": {},
   "outputs": [
    {
     "name": "stdout",
     "output_type": "stream",
     "text": [
      "1.0\n",
      "1.0\n",
      "1.0\n",
      "1.0\n",
      "0.0\n"
     ]
    }
   ],
   "source": [
    "for projeto in P:\n",
    "    print(m_cbc_b.vars[projeto].x)"
   ]
  },
  {
   "cell_type": "code",
   "execution_count": null,
   "id": "c02f3c58-c171-489d-bfe7-93ca3375d71a",
   "metadata": {},
   "outputs": [],
   "source": []
  }
 ],
 "metadata": {
  "kernelspec": {
   "display_name": "Python 3 (ipykernel)",
   "language": "python",
   "name": "python3"
  },
  "language_info": {
   "codemirror_mode": {
    "name": "ipython",
    "version": 3
   },
   "file_extension": ".py",
   "mimetype": "text/x-python",
   "name": "python",
   "nbconvert_exporter": "python",
   "pygments_lexer": "ipython3",
   "version": "3.9.7"
  }
 },
 "nbformat": 4,
 "nbformat_minor": 5
}
