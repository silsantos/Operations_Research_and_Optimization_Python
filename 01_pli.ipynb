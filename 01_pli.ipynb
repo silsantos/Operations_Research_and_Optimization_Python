{
 "cells": [
  {
   "cell_type": "markdown",
   "id": "556bbd76-c666-4b75-89e6-1bbfcba7cff8",
   "metadata": {},
   "source": [
    "## Programação Linear Inteira\n",
    "***\n",
    "\n",
    "##### Problemas de programação linear inteira (PLI) são problemas de programação linear (PL) em que todas ou algumas de suas variáveis assumem valores discretos, isto é, valores pertencentes ao conjunto dos números inteiros.\n",
    "\n",
    "##### Quanto todas as variáveis são números inteiros, teremos um problema de progrmação linear inteira pura (PLIP). Caso contrário, programação linear inteira mista (PLIM).\n",
    "\n",
    "##### Um caso especial de variável inteira é a variável binária, que assume somente valores iguais a zero ou um. Quando todas as variáveis de um modelo são binárias, diz-se que o modelo é de programação inteira binária.\n",
    "\n",
    "##### Em geral, os problemas apresentados estão sujeitos à restrições. Essas restrições impõem condições às variáveis do problema.\n",
    "\n",
    "[Ler mais.](https://repositorio-aberto.up.pt/bitstream/10216/74369/2/40539.pdf)"
   ]
  },
  {
   "cell_type": "markdown",
   "id": "a6c47792-00d1-45c4-81f7-4de4b5317c02",
   "metadata": {},
   "source": [
    "### Problema da Mochila (Knapsack Problem)\n",
    "***"
   ]
  },
  {
   "cell_type": "markdown",
   "id": "f3f24354-e61d-46ba-8cb8-2a3b1f882beb",
   "metadata": {},
   "source": [
    "##### Um alpinista dispõe de uma mochila e de diversos objetos que podem ser carregados na mochila; para cada objeto é conhecido o seu peso (wi) e o benefício que dele se tira (pi). Conhecida a capacidade da mochila em termos de peso máximo (c), quais os objetos, dos n existentes, que devem ser escolhidos para colocar na mochila?\n",
    "\n",
    "##### Observação 1: Queremos maximizar a quantidade de itens dentro da mochila. No entanto, levaremos em consideração não apenas a quantidade de itens, mas também o benefício que teremos ao levá-los, ou seja, o quanto o item escolhido é importante para a viagem. Este é nosso objetivo.\n",
    "\n",
    "##### Observação 2: É necessário respeitar a capacidade da mochila. Assim sendo, queremos a maior quantidade de itens importantes e que, com seus respectivos pesos somados, não ultrapasse o valor c. Esta é uma restrição.\n",
    "\n",
    "##### Em termos matemáticos:"
   ]
  },
  {
   "cell_type": "markdown",
   "id": "7150543c-a8a5-467e-9b77-3efa73ec46b3",
   "metadata": {},
   "source": [
    "<center><img src = 'assets/mochila.png'></center>"
   ]
  },
  {
   "cell_type": "markdown",
   "id": "10c360f1-6080-4565-bc2f-47bd84b755fc",
   "metadata": {},
   "source": [
    "##### A variável x é uma variável binária que assume seu valor da seguinte forma:\n",
    "\n",
    "> Caso o objeto seja escolhido, seu valor será igual a 1.\n",
    "\n",
    "> Caso o objeto não seja escolhido, seu valor será igual a 0."
   ]
  },
  {
   "cell_type": "markdown",
   "id": "e64b65a0-f1a8-4024-a593-d8a255419a65",
   "metadata": {},
   "source": [
    "***\n",
    "### Resolução:\n",
    "\n",
    "##### Para resolvermos o problema, usaremos uma biblioteca chamada [MIP](https://docs.python-mip.com/en/latest/examples.html)."
   ]
  },
  {
   "cell_type": "code",
   "execution_count": 3,
   "id": "ebebb44b-6de6-4c1e-a931-b0c1cffc0706",
   "metadata": {},
   "outputs": [],
   "source": [
    "from mip import Model, xsum, maximize, BINARY"
   ]
  },
  {
   "cell_type": "markdown",
   "id": "8c7eda43-9833-4c1d-b5ea-1f969fe17805",
   "metadata": {},
   "source": [
    "##### Criação de dados sintéticos:"
   ]
  },
  {
   "cell_type": "code",
   "execution_count": 4,
   "id": "da4c5eef-e5e6-433c-b43d-1386067d3fb0",
   "metadata": {},
   "outputs": [],
   "source": [
    "# Benefícios dos itens (p: profit)\n",
    "p = [10, 13, 18, 31, 7, 15]\n",
    "\n",
    "# Pesos dos objetos (w: weight)\n",
    "w = [11, 15, 20, 35, 10, 33]\n",
    "\n",
    "# Capacidade da mochila\n",
    "c = 47\n",
    "\n",
    "# Quantidade de itens\n",
    "I = range(len(w))"
   ]
  },
  {
   "cell_type": "markdown",
   "id": "ec83a698-6dd7-4a2d-9263-250e74c491ef",
   "metadata": {},
   "source": [
    "##### Definição do modelo e das restrições:"
   ]
  },
  {
   "cell_type": "code",
   "execution_count": 6,
   "id": "b47da870-c6c3-4ba8-98af-53f41f23730a",
   "metadata": {},
   "outputs": [
    {
     "name": "stdout",
     "output_type": "stream",
     "text": [
      "Welcome to the CBC MILP Solver \n",
      "Version: Trunk\n",
      "Build Date: Oct 24 2021 \n",
      "\n",
      "Starting solution of the Linear programming relaxation problem using Primal Simplex\n",
      "\n",
      "Coin0506I Presolve 1 (0) rows, 6 (0) columns and 6 (0) elements\n",
      "Clp1000I sum of infeasibilities 0 - average 0, 6 fixed columns\n",
      "Coin0506I Presolve 0 (-1) rows, 0 (-6) columns and 0 (-6) elements\n",
      "Clp0000I Optimal - objective value -0\n",
      "Clp0000I Optimal - objective value -0\n",
      "Coin0511I After Postsolve, objective 0, infeasibilities - dual 0 (0), primal 0 (0)\n",
      "Clp0000I Optimal - objective value 42.171429\n",
      "Clp0000I Optimal - objective value 42.171429\n",
      "Clp0000I Optimal - objective value 42.171429\n",
      "Clp0032I Optimal objective 42.17142857 - 0 iterations time 0.002, Idiot 0.00\n",
      "\n",
      "Starting MIP optimization\n"
     ]
    },
    {
     "data": {
      "text/plain": [
       "<OptimizationStatus.OPTIMAL: 0>"
      ]
     },
     "execution_count": 6,
     "metadata": {},
     "output_type": "execute_result"
    }
   ],
   "source": [
    "# Definição do modelo\n",
    "m = Model('knapsack')\n",
    "\n",
    "# Definição da variável binária x:\n",
    "x = [m.add_var(var_type=BINARY) for i in I]\n",
    "\n",
    "# Objetivo: Maximizar a quantidade de itens x seu benefício:\n",
    "m.objective = maximize(xsum(p[i] * x[i] for i in I))\n",
    "\n",
    "# Restrição: Atender à capacidade da mochila\n",
    "m += xsum(w[i] * x[i] for i in I) <= c\n",
    "\n",
    "# Otimizando o modelo:\n",
    "m.optimize()"
   ]
  },
  {
   "cell_type": "markdown",
   "id": "19e58d54-88d3-448f-9e2b-b57119cd4677",
   "metadata": {},
   "source": [
    "##### Visualização dos itens selecionados:"
   ]
  },
  {
   "cell_type": "code",
   "execution_count": 7,
   "id": "f5ec51e1-b9bb-4640-9afd-4bedcd4424a5",
   "metadata": {},
   "outputs": [
    {
     "name": "stdout",
     "output_type": "stream",
     "text": [
      "selected items: [0, 3]\n"
     ]
    }
   ],
   "source": [
    "# Os itens que possuírem x = 0 (não selecionados) não serão mostrados\n",
    "selected = [i for i in I if x[i].x >= 0.99]\n",
    "print(\"selected items: {}\".format(selected))"
   ]
  },
  {
   "cell_type": "code",
   "execution_count": null,
   "id": "5929a8cb-60d6-424c-bb1b-f951db06d21f",
   "metadata": {},
   "outputs": [],
   "source": []
  },
  {
   "cell_type": "code",
   "execution_count": null,
   "id": "69d7436f-83fb-4da3-a346-cf373d52f3f4",
   "metadata": {},
   "outputs": [],
   "source": []
  }
 ],
 "metadata": {
  "kernelspec": {
   "display_name": "Python 3 (ipykernel)",
   "language": "python",
   "name": "python3"
  },
  "language_info": {
   "codemirror_mode": {
    "name": "ipython",
    "version": 3
   },
   "file_extension": ".py",
   "mimetype": "text/x-python",
   "name": "python",
   "nbconvert_exporter": "python",
   "pygments_lexer": "ipython3",
   "version": "3.9.7"
  }
 },
 "nbformat": 4,
 "nbformat_minor": 5
}
